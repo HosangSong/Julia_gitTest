{
 "cells": [
  {
   "cell_type": "code",
   "execution_count": 1,
   "metadata": {},
   "outputs": [],
   "source": [
    "using JuMP, CPLEX\n",
    "n = 100;"
   ]
  },
  {
   "cell_type": "code",
   "execution_count": 2,
   "metadata": {},
   "outputs": [
    {
     "data": {
      "text/plain": [
       "my_callback_function (generic function with 1 method)"
      ]
     },
     "execution_count": 2,
     "metadata": {},
     "output_type": "execute_result"
    }
   ],
   "source": [
    "function my_callback_function(cb_data)\n",
    "    println(\"Call to callback\")\n",
    "    new_sol = []\n",
    "    precedent = [callback_value(cb_data,x_k ) for x_k in x]\n",
    "    for x_i in x\n",
    "        x_val = callback_value(cb_data, x_i)\n",
    "        x_new = ceil(Int, x_val)\n",
    "        append!(new_sol, x_new)\n",
    "    end\n",
    "    println(\"Precedent: \", precedent)\n",
    "    println(\"New: \",new_sol)\n",
    "    status = MOI.submit(\n",
    "        mod, MOI.HeuristicSolution(cb_data), [x_i for x_i in x], [floor(Int, k) for k in new_sol]\n",
    "    )\n",
    "    println(\"status = \", status)\n",
    "end"
   ]
  },
  {
   "cell_type": "code",
   "execution_count": 3,
   "metadata": {},
   "outputs": [
    {
     "ename": "LoadError",
     "evalue": "UndefVarError: cb_data not defined",
     "output_type": "error",
     "traceback": [
      "UndefVarError: cb_data not defined",
      "",
      "Stacktrace:",
      " [1] top-level scope",
      "   @ :0",
      " [2] eval",
      "   @ .\\boot.jl:373 [inlined]",
      " [3] include_string(mapexpr::typeof(REPL.softscope), mod::Module, code::String, filename::String)",
      "   @ Base .\\loading.jl:1196"
     ]
    }
   ],
   "source": [
    "cb_data"
   ]
  }
 ],
 "metadata": {
  "kernelspec": {
   "display_name": "Julia 1.7.3",
   "language": "julia",
   "name": "julia-1.7"
  },
  "language_info": {
   "file_extension": ".jl",
   "mimetype": "application/julia",
   "name": "julia",
   "version": "1.7.3"
  }
 },
 "nbformat": 4,
 "nbformat_minor": 4
}
