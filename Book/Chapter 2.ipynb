{
 "cells": [
  {
   "cell_type": "markdown",
   "metadata": {},
   "source": [
    "max x1 + 2x2 + 5x3\n",
    "\n",
    "st  -x1 + x2 + 3x3 <= -5\n",
    "\n",
    "    x1 + 3x2 -7x3 <= 10\n",
    "\n",
    "    0<= x1 <= 10\n",
    "    \n",
    "    x2 >= 0\n",
    "    \n",
    "    x3 >= 0"
   ]
  },
  {
   "cell_type": "code",
   "execution_count": 1,
   "metadata": {},
   "outputs": [
    {
     "data": {
      "text/latex": [
       "$$ x1 + 2 x2 + 5 x3 $$"
      ],
      "text/plain": [
       "x1 + 2 x2 + 5 x3"
      ]
     },
     "execution_count": 1,
     "metadata": {},
     "output_type": "execute_result"
    }
   ],
   "source": [
    "using JuMP, GLPK\n",
    "\n",
    "example1 = Model(GLPK.Optimizer)\n",
    "\n",
    "@variable(example1, 0<= x1 <= 10)\n",
    "@variable(example1, 0<= x2)\n",
    "@variable(example1, 0<= x3)\n",
    "\n",
    "@constraint(example1, constraint1, -x1 + x2 + 3x3 <= -5)\n",
    "@constraint(example1, constraint2, x1 + 3x2 -7x3 <= 10)\n",
    "\n",
    "@objective(example1, Max, x1 + 2x2 + 5x3)"
   ]
  },
  {
   "cell_type": "code",
   "execution_count": 2,
   "metadata": {},
   "outputs": [
    {
     "data": {
      "text/latex": [
       "$$ \\begin{aligned}\n",
       "\\max\\quad & x1 + 2 x2 + 5 x3\\\\\n",
       "\\text{Subject to} \\quad & -x1 + x2 + 3 x3 \\leq -5.0\\\\\n",
       " & x1 + 3 x2 - 7 x3 \\leq 10.0\\\\\n",
       " & x1 \\geq 0.0\\\\\n",
       " & x2 \\geq 0.0\\\\\n",
       " & x3 \\geq 0.0\\\\\n",
       " & x1 \\leq 10.0\\\\\n",
       "\\end{aligned} $$"
      ]
     },
     "metadata": {},
     "output_type": "display_data"
    }
   ],
   "source": [
    "print(example1)"
   ]
  },
  {
   "cell_type": "code",
   "execution_count": 3,
   "metadata": {},
   "outputs": [],
   "source": [
    "JuMP.optimize!(example1)"
   ]
  },
  {
   "cell_type": "code",
   "execution_count": null,
   "metadata": {},
   "outputs": [],
   "source": []
  },
  {
   "cell_type": "code",
   "execution_count": 4,
   "metadata": {},
   "outputs": [
    {
     "name": "stdout",
     "output_type": "stream",
     "text": [
      "Optimal Solutions:\n",
      "x1 = 10.0\n",
      "x2 = 2.1875\n",
      "x3 = 0.9375\n"
     ]
    }
   ],
   "source": [
    "println(\"Optimal Solutions:\")\n",
    "\n",
    "println(\"x1 = \", JuMP.value(x1))\n",
    "println(\"x2 = \", JuMP.value(x2))\n",
    "println(\"x3 = \", JuMP.value(x3))"
   ]
  },
  {
   "cell_type": "code",
   "execution_count": 4,
   "metadata": {},
   "outputs": [
    {
     "name": "stdout",
     "output_type": "stream",
     "text": [
      "Dual Variables:\n",
      "dual1 = 1.8125\n",
      "dual2 = 0.06249999999999998\n"
     ]
    }
   ],
   "source": [
    "println(\"Dual Variables:\")\n",
    "println(\"dual1 = \", JuMP.shadow_price(constraint1))\n",
    "println(\"dual2 = \", JuMP.shadow_price(constraint2))"
   ]
  },
  {
   "cell_type": "code",
   "execution_count": 6,
   "metadata": {},
   "outputs": [
    {
     "name": "stdout",
     "output_type": "stream",
     "text": [
      "Academic license - for non-commercial use only - expires 2023-07-21\r\n"
     ]
    },
    {
     "ename": "LoadError",
     "evalue": "LoadError: Expression x1 <= 10 && x1 >= 0 cannot be used as a name.\nin expression starting at In[6]:7",
     "output_type": "error",
     "traceback": [
      "LoadError: Expression x1 <= 10 && x1 >= 0 cannot be used as a name.\nin expression starting at In[6]:7",
      "",
      "Stacktrace:",
      " [1] error(s::String)",
      "   @ Base .\\error.jl:33",
      " [2] _get_name(c::Expr)",
      "   @ JuMP.Containers C:\\Users\\Hosang\\.julia\\packages\\JuMP\\Y4piv\\src\\Containers\\macro.jl:16",
      " [3] var\"@variable\"(__source__::LineNumberNode, __module__::Module, args::Vararg{Any})",
      "   @ JuMP C:\\Users\\Hosang\\.julia\\packages\\JuMP\\Y4piv\\src\\macros.jl:1985",
      " [4] eval",
      "   @ .\\boot.jl:373 [inlined]",
      " [5] include_string(mapexpr::typeof(REPL.softscope), mod::Module, code::String, filename::String)",
      "   @ Base .\\loading.jl:1196"
     ]
    }
   ],
   "source": [
    "using JuMP, Gurobi\n",
    "\n",
    "# Preparing an optimization model\n",
    "m = Model(Gurobi.Optimizer)\n",
    "\n",
    "# Declaring variables\n",
    "@variable(m, x1 <=10 && x1 >= 0)\n",
    "@variable(m, x2 >=0)\n",
    "@variable(m, x3 >=0)\n",
    "\n",
    "# Setting the objective\n",
    "@objective(m, Max, x1 + 2x2 + 5x3)\n",
    "\n",
    "# Adding constraints\n",
    "@constraint(m, -x1 +  x2 + 3x3 <= -5)\n",
    "@constraint(m,  x1 + 3x2 - 7x3 <= 10)\n",
    "\n",
    "# Printing the prepared optimization model\n",
    "print(m)\n",
    "\n",
    "# Solving the optimization problem\n",
    "JuMP.optimize!(m)\n",
    "\n",
    "# Printing the optimal solutions obtained\n",
    "println(\"Optimal Solutions:\")\n",
    "println(\"x1 = \", JuMP.value(x1))\n",
    "println(\"x2 = \", JuMP.value(x2))\n",
    "println(\"x3 = \", JuMP.value(x3))\n",
    "\n",
    "# Printing the optimal dual variables\n",
    "println(\"Dual Variables:\")\n",
    "println(\"dual1 = \", JuMP.shadow_price(constraint1))\n",
    "println(\"dual2 = \", JuMP.shadow_price(constraint2))"
   ]
  },
  {
   "cell_type": "code",
   "execution_count": 7,
   "metadata": {},
   "outputs": [
    {
     "name": "stdout",
     "output_type": "stream",
     "text": [
      "Academic license - for non-commercial use only - expires 2023-07-21\r\n"
     ]
    },
    {
     "data": {
      "text/latex": [
       "$$ \\begin{aligned}\n",
       "\\max\\quad & x1 + 2 x2 + 5 x3\\\\\n",
       "\\text{Subject to} \\quad & -x1 + x2 + 3 x3 \\leq -5.0\\\\\n",
       " & x1 + 3 x2 - 7 x3 \\leq 10.0\\\\\n",
       " & x1 \\geq 0.0\\\\\n",
       " & x2 \\geq 0.0\\\\\n",
       " & x3 \\geq 0.0\\\\\n",
       " & x1 \\leq 10.0\\\\\n",
       "\\end{aligned} $$"
      ]
     },
     "metadata": {},
     "output_type": "display_data"
    },
    {
     "name": "stdout",
     "output_type": "stream",
     "text": [
      "Gurobi Optimizer version 9.1.2 build v9.1.2rc0 (win64)\r\n",
      "Thread count: 8 physical cores, 16 logical processors, using up to 16 threads\r\n",
      "Optimize a model with 2 rows, 3 columns and 6 nonzeros\r\n",
      "Model fingerprint: 0xf6b9ddf6\r\n",
      "Coefficient statistics:\r\n",
      "  Matrix range     [1e+00, 7e+00]\r\n",
      "  Objective range  [1e+00, 5e+00]\r\n",
      "  Bounds range     [1e+01, 1e+01]\r\n",
      "  RHS range        [5e+00, 1e+01]\r\n",
      "Presolve time: 0.01s\r\n",
      "Presolved: 2 rows, 3 columns, 6 nonzeros\r\n",
      "\r\n",
      "Iteration    Objective       Primal Inf.    Dual Inf.      Time\r\n",
      "       0    9.0000000e+30   1.250000e+30   9.000000e+00      0s\r\n",
      "       2    1.9062500e+01   0.000000e+00   0.000000e+00      0s\r\n",
      "\r\n",
      "Solved in 2 iterations and 0.01 seconds\r\n",
      "Optimal objective  1.906250000e+01\r\n",
      "\r\n",
      "User-callback calls 35, time in user-callback 0.00 sec\r\n",
      "Optimal Solutions:\n",
      "x1 = 10.0\n",
      "x2 = 2.1875\n",
      "x3 = 0.9375\n",
      "Dual Variables:\n",
      "dual1 = 1.8125\n",
      "dual2 = 0.06249999999999998\n"
     ]
    }
   ],
   "source": [
    "using JuMP, Gurobi\n",
    "\n",
    "# Preparing an optimization model\n",
    "m = Model(Gurobi.Optimizer)\n",
    "\n",
    "# Declaring variables\n",
    "@variable(m, 0<= x1 <= 10)\n",
    "@variable(m, 0 <= x2)\n",
    "@variable(m, 0 <= x3)\n",
    "\n",
    "# Setting the objective\n",
    "@objective(m, Max, x1 + 2x2 + 5x3)\n",
    "\n",
    "# Adding constraints\n",
    "@constraint(m, -x1 +  x2 + 3x3 <= -5)\n",
    "@constraint(m,  x1 + 3x2 - 7x3 <= 10)\n",
    "\n",
    "# Printing the prepared optimization model\n",
    "print(m)\n",
    "\n",
    "# Solving the optimization problem\n",
    "JuMP.optimize!(m)\n",
    "\n",
    "# Printing the optimal solutions obtained\n",
    "println(\"Optimal Solutions:\")\n",
    "println(\"x1 = \", JuMP.value(x1))\n",
    "println(\"x2 = \", JuMP.value(x2))\n",
    "println(\"x3 = \", JuMP.value(x3))\n",
    "\n",
    "# Printing the optimal dual variables\n",
    "println(\"Dual Variables:\")\n",
    "println(\"dual1 = \", JuMP.shadow_price(constraint1))\n",
    "println(\"dual2 = \", JuMP.shadow_price(constraint2))"
   ]
  },
  {
   "cell_type": "code",
   "execution_count": 8,
   "metadata": {},
   "outputs": [
    {
     "data": {
      "text/latex": [
       "$$ \\begin{aligned}\n",
       "\\max\\quad & x1 + 2 x2 + 5 x3\\\\\n",
       "\\text{Subject to} \\quad & -x1 + x2 + 3 x3 \\leq -5.0\\\\\n",
       " & x1 + 3 x2 - 7 x3 \\leq 10.0\\\\\n",
       " & x1 \\geq 0.0\\\\\n",
       " & x2 \\geq 0.0\\\\\n",
       " & x3 \\geq 0.0\\\\\n",
       " & x1 \\leq 10.0\\\\\n",
       "\\end{aligned} $$"
      ]
     },
     "metadata": {},
     "output_type": "display_data"
    },
    {
     "name": "stdout",
     "output_type": "stream",
     "text": [
      "Version identifier: 20.1.0.0 | 2020-11-10 | 9bedb6d68\n",
      "Tried aggregator 1 time.\n",
      "No LP presolve or aggregator reductions.\n",
      "Presolve time = 0.00 sec. (0.00 ticks)\n",
      "\n",
      "Iteration log . . .\n",
      "Iteration:     1   Dual infeasibility =             0.000000\n",
      "Iteration:     2   Dual objective     =            19.062500\n",
      "Optimal Solutions:\n",
      "x1 = 10.0\n",
      "x2 = 2.1875\n",
      "x3 = 0.9375\n",
      "Dual Variables:\n",
      "dual1 = 1.8125\n",
      "dual2 = 0.06249999999999998\n"
     ]
    }
   ],
   "source": [
    "using JuMP, CPLEX\n",
    "\n",
    "# Preparing an optimization model\n",
    "m = Model(CPLEX.Optimizer)\n",
    "\n",
    "# Declaring variables\n",
    "@variable(m, 0<= x1 <= 10)\n",
    "@variable(m, 0 <= x2)\n",
    "@variable(m, 0 <= x3)\n",
    "\n",
    "# Setting the objective\n",
    "@objective(m, Max, x1 + 2x2 + 5x3)\n",
    "\n",
    "# Adding constraints\n",
    "@constraint(m, -x1 +  x2 + 3x3 <= -5)\n",
    "@constraint(m,  x1 + 3x2 - 7x3 <= 10)\n",
    "\n",
    "# Printing the prepared optimization model\n",
    "print(m)\n",
    "\n",
    "# Solving the optimization problem\n",
    "JuMP.optimize!(m)\n",
    "\n",
    "# Printing the optimal solutions obtained\n",
    "println(\"Optimal Solutions:\")\n",
    "println(\"x1 = \", JuMP.value(x1))\n",
    "println(\"x2 = \", JuMP.value(x2))\n",
    "println(\"x3 = \", JuMP.value(x3))\n",
    "\n",
    "# Printing the optimal dual variables\n",
    "println(\"Dual Variables:\")\n",
    "println(\"dual1 = \", JuMP.shadow_price(constraint1))\n",
    "println(\"dual2 = \", JuMP.shadow_price(constraint2))"
   ]
  },
  {
   "cell_type": "markdown",
   "metadata": {},
   "source": [
    "# 2.2 Alternative Ways of Writing LP Problems"
   ]
  },
  {
   "cell_type": "code",
   "execution_count": 9,
   "metadata": {},
   "outputs": [
    {
     "data": {
      "text/plain": [
       "3-element Vector{VariableRef}:\n",
       " x[1]\n",
       " x[2]\n",
       " x[3]"
      ]
     },
     "execution_count": 9,
     "metadata": {},
     "output_type": "execute_result"
    }
   ],
   "source": [
    "@variable(m, x[1:3] >= 0)"
   ]
  },
  {
   "cell_type": "code",
   "execution_count": 10,
   "metadata": {},
   "outputs": [
    {
     "data": {
      "text/latex": [
       "$$ x_{1} + 2 x_{2} + 5 x_{3} $$"
      ],
      "text/plain": [
       "x[1] + 2 x[2] + 5 x[3]"
      ]
     },
     "execution_count": 10,
     "metadata": {},
     "output_type": "execute_result"
    }
   ],
   "source": [
    "c = [1; 2; 5]\n",
    "@objective(m, Max, sum( c[i]*x[i] for i in 1:3))"
   ]
  },
  {
   "cell_type": "code",
   "execution_count": null,
   "metadata": {},
   "outputs": [],
   "source": [
    "c2 = [1, 2, 5]\n",
    "@objective(m, M)"
   ]
  },
  {
   "cell_type": "code",
   "execution_count": 11,
   "metadata": {},
   "outputs": [
    {
     "data": {
      "text/latex": [
       "constraint2 : $ x_{1} + 3 x_{2} - 7 x_{3} \\leq 10.0 $"
      ],
      "text/plain": [
       "constraint2 : x[1] + 3 x[2] - 7 x[3] <= 10.0"
      ]
     },
     "execution_count": 11,
     "metadata": {},
     "output_type": "execute_result"
    }
   ],
   "source": [
    "A = [-1  1  3;\n",
    "      1  3 -7]\n",
    "b = [-5; 10]\n",
    "@constraint(m, constraint1, sum( A[1,i]*x[i] for i in 1:3) <= b[1] )\n",
    "@constraint(m, constraint2, sum( A[2,i]*x[i] for i in 1:3) <= b[2] )"
   ]
  },
  {
   "cell_type": "code",
   "execution_count": 12,
   "metadata": {},
   "outputs": [],
   "source": [
    "constraint = Dict()\n",
    "for j in 1:2\n",
    "  constraint[j] = @constraint(m, sum(A[j,i]*x[i] for i in 1:3) <= b[j])\n",
    "end"
   ]
  },
  {
   "cell_type": "code",
   "execution_count": null,
   "metadata": {},
   "outputs": [],
   "source": []
  }
 ],
 "metadata": {
  "kernelspec": {
   "display_name": "Julia 1.7.3",
   "language": "julia",
   "name": "julia-1.7"
  },
  "language_info": {
   "file_extension": ".jl",
   "mimetype": "application/julia",
   "name": "julia",
   "version": "1.7.3"
  }
 },
 "nbformat": 4,
 "nbformat_minor": 4
}
